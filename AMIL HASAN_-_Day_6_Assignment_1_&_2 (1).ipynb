{
 "cells": [
  {
   "cell_type": "markdown",
   "metadata": {},
   "source": [
    "# Assignment 1 - Python program to create Bank account class with deposit, withdraw function."
   ]
  },
  {
   "cell_type": "code",
   "execution_count": 4,
   "metadata": {},
   "outputs": [
    {
     "name": "stdout",
     "output_type": "stream",
     "text": [
      "Hello!! Your account HAS BEEN created.\n"
     ]
    }
   ],
   "source": [
    "class Bank_Account: \n",
    "    def __init__(self): \n",
    "        self.balance = 0\n",
    "        print(\"Hello!! Your account HAS BEEN created.\") \n",
    "    \n",
    "    def deposit(self):\n",
    "        amount = int(input('Enter the amount to deposit:'))\n",
    "        self.balance += amount\n",
    "        print('Your New Balance is %d' %self.balance)\n",
    "        \n",
    "    def withdraw(self):\n",
    "        amount = int(input('Enter the amount to withdraw:'))\n",
    "        if (amount > self.balance):\n",
    "            print('Insufficient Balance!')\n",
    "        else:\n",
    "            self.balance -= amount\n",
    "            print('Your Remaining Balance is %d', self.balance)\n",
    "            \n",
    "    def enquiry(self):\n",
    "        print('Your Balance = %d', self.balance)\n",
    "\n",
    "account = Bank_Account()      "
   ]
  },
  {
   "cell_type": "code",
   "execution_count": 5,
   "metadata": {},
   "outputs": [
    {
     "name": "stdout",
     "output_type": "stream",
     "text": [
      "Enter the amount to deposit:1000\n",
      "Your New Balance is 1000\n"
     ]
    }
   ],
   "source": [
    "account.deposit()"
   ]
  },
  {
   "cell_type": "code",
   "execution_count": 6,
   "metadata": {},
   "outputs": [
    {
     "name": "stdout",
     "output_type": "stream",
     "text": [
      "Enter the amount to withdraw:400\n",
      "Your Remaining Balance is %d 600\n"
     ]
    }
   ],
   "source": [
    "account.withdraw()"
   ]
  },
  {
   "cell_type": "markdown",
   "metadata": {},
   "source": [
    "# Assignment 2 - program to calculate volume and surface area of cone"
   ]
  },
  {
   "cell_type": "code",
   "execution_count": 8,
   "metadata": {},
   "outputs": [
    {
     "name": "stdout",
     "output_type": "stream",
     "text": [
      "Volume Of Cone :  184.3067690106012\n",
      "Surface Area Of Cone :  213.62830044410595\n"
     ]
    }
   ],
   "source": [
    "# Importing Math library for value Of PIE \n",
    "import math \n",
    "pi = math.pi \n",
    "  \n",
    "# Defining Function to calculate Volume of Cone \n",
    "def volume(r, h): \n",
    "    return (1 / 3) * pi * r * r * h \n",
    "  \n",
    "# defining Function To Calculate Surface Area of Cone \n",
    "def surfacearea(r, s): \n",
    "    return pi * r * s + pi * r * r \n",
    "   \n",
    "radius = float(4) \n",
    "height = float(11) \n",
    "slat_height = float(13) \n",
    "print( \"Volume Of Cone : \", volume(radius, height) ) \n",
    "print( \"Surface Area Of Cone : \", surfacearea(radius, slat_height) ) "
   ]
  },
  {
   "cell_type": "code",
   "execution_count": null,
   "metadata": {},
   "outputs": [],
   "source": []
  }
 ],
 "metadata": {
  "kernelspec": {
   "display_name": "Python 3",
   "language": "python",
   "name": "python3"
  },
  "language_info": {
   "codemirror_mode": {
    "name": "ipython",
    "version": 3
   },
   "file_extension": ".py",
   "mimetype": "text/x-python",
   "name": "python",
   "nbconvert_exporter": "python",
   "pygments_lexer": "ipython3",
   "version": "3.8.3"
  }
 },
 "nbformat": 4,
 "nbformat_minor": 4
}
